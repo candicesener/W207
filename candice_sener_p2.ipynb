{
 "cells": [
  {
   "cell_type": "markdown",
   "metadata": {
    "colab_type": "text",
    "id": "6t55qCf3Fsxa"
   },
   "source": [
    "# Project 2: Topic Classification"
   ]
  },
  {
   "cell_type": "markdown",
   "metadata": {
    "colab_type": "text",
    "id": "j9-9G8z4Fsxd"
   },
   "source": [
    "In this project, you'll work with text data from newsgroup postings on a variety of topics. You'll train classifiers to distinguish between the topics based on the text of the posts. Whereas with digit classification, the input is relatively dense: a 28x28 matrix of pixels, many of which are non-zero, here we'll represent each document with a \"bag-of-words\" model. As you'll see, this makes the feature representation quite sparse -- only a few words of the total vocabulary are active in any given document. The bag-of-words assumption here is that the label depends only on the words; their order is not important.\n",
    "\n",
    "The SK-learn documentation on feature extraction will prove useful:\n",
    "http://scikit-learn.org/stable/modules/feature_extraction.html\n",
    "\n",
    "Each problem can be addressed succinctly with the included packages -- please don't add any more. Grading will be based on writing clean, commented code, along with a few short answers.\n",
    "\n",
    "As always, you're welcome to work on the project in groups and discuss ideas on the course wall, but please prepare your own write-up and write your own code."
   ]
  },
  {
   "cell_type": "code",
   "execution_count": 26,
   "metadata": {
    "colab": {},
    "colab_type": "code",
    "id": "AUYW83LqFsxd"
   },
   "outputs": [],
   "source": [
    "# This tells matplotlib not to try opening a new window for each plot.\n",
    "%matplotlib inline\n",
    "\n",
    "# General libraries.\n",
    "import re\n",
    "import numpy as np\n",
    "import matplotlib.pyplot as plt\n",
    "\n",
    "# SK-learn libraries for learning.\n",
    "from sklearn.pipeline import Pipeline\n",
    "from sklearn.neighbors import KNeighborsClassifier\n",
    "from sklearn.linear_model import LogisticRegression\n",
    "from sklearn.naive_bayes import BernoulliNB\n",
    "from sklearn.naive_bayes import MultinomialNB\n",
    "from sklearn.model_selection import GridSearchCV\n",
    "\n",
    "# SK-learn libraries for evaluation.\n",
    "from sklearn.metrics import confusion_matrix\n",
    "from sklearn import metrics\n",
    "from sklearn.metrics import classification_report\n",
    "\n",
    "# SK-learn library for importing the newsgroup data.\n",
    "from sklearn.datasets import fetch_20newsgroups\n",
    "\n",
    "# SK-learn libraries for feature extraction from text.\n",
    "from sklearn.feature_extraction.text import *\n",
    "\n",
    "import nltk"
   ]
  },
  {
   "cell_type": "markdown",
   "metadata": {
    "colab_type": "text",
    "id": "_ALNjGgCFsxg"
   },
   "source": [
    "Load the data, stripping out metadata so that we learn classifiers that only use textual features. By default, newsgroups data is split into train and test sets. We further split the test so we have a dev set. Note that we specify 4 categories to use for this project. If you remove the categories argument from the fetch function, you'll get all 20 categories."
   ]
  },
  {
   "cell_type": "code",
   "execution_count": 4,
   "metadata": {
    "colab": {},
    "colab_type": "code",
    "id": "ecYpcoxaFsxh"
   },
   "outputs": [
    {
     "name": "stdout",
     "output_type": "stream",
     "text": [
      "training label shape: (2034,)\n",
      "test label shape: (677,)\n",
      "dev label shape: (676,)\n",
      "labels names: ['alt.atheism', 'comp.graphics', 'sci.space', 'talk.religion.misc']\n"
     ]
    }
   ],
   "source": [
    "categories = ['alt.atheism', 'talk.religion.misc', 'comp.graphics', 'sci.space']\n",
    "newsgroups_train = fetch_20newsgroups(subset='train',\n",
    "                                      remove=('headers', 'footers', 'quotes'),\n",
    "                                      categories=categories)\n",
    "newsgroups_test = fetch_20newsgroups(subset='test',\n",
    "                                     remove=('headers', 'footers', 'quotes'),\n",
    "                                     categories=categories)\n",
    "\n",
    "num_test = int(len(newsgroups_test.target) / 2)\n",
    "test_data, test_labels = newsgroups_test.data[num_test:], newsgroups_test.target[num_test:]\n",
    "dev_data, dev_labels = newsgroups_test.data[:num_test], newsgroups_test.target[:num_test]\n",
    "train_data, train_labels = newsgroups_train.data, newsgroups_train.target\n",
    "\n",
    "print('training label shape:', train_labels.shape)\n",
    "print('test label shape:', test_labels.shape)\n",
    "print('dev label shape:', dev_labels.shape)\n",
    "print('labels names:', newsgroups_train.target_names)"
   ]
  },
  {
   "cell_type": "markdown",
   "metadata": {
    "colab_type": "text",
    "id": "OHTnOke6Fsxk"
   },
   "source": [
    "### Part 1:\n",
    "\n",
    "For each of the first 5 training examples, print the text of the message along with the label."
   ]
  },
  {
   "cell_type": "code",
   "execution_count": 5,
   "metadata": {
    "colab": {},
    "colab_type": "code",
    "id": "X8zhA06xFsxl"
   },
   "outputs": [
    {
     "name": "stdout",
     "output_type": "stream",
     "text": [
      "Label: comp.graphics\n",
      "Hi,\n",
      "\n",
      "I've noticed that if you only save a model (with all your mapping planes\n",
      "positioned carefully) to a .3DS file that when you reload it after restarting\n",
      "3DS, they are given a default position and orientation.  But if you save\n",
      "to a .PRJ file their positions/orientation are preserved.  Does anyone\n",
      "know why this information is not stored in the .3DS file?  Nothing is\n",
      "explicitly said in the manual about saving texture rules in the .PRJ file. \n",
      "I'd like to be able to read the texture rule information, does anyone have \n",
      "the format for the .PRJ file?\n",
      "\n",
      "Is the .CEL file format available from somewhere?\n",
      "\n",
      "Rych\n",
      " \n",
      "/////////NEXT/////////\n",
      " \n",
      "Label: talk.religion.misc\n",
      "\n",
      "\n",
      "Seems to be, barring evidence to the contrary, that Koresh was simply\n",
      "another deranged fanatic who thought it neccessary to take a whole bunch of\n",
      "folks with him, children and all, to satisfy his delusional mania. Jim\n",
      "Jones, circa 1993.\n",
      "\n",
      "\n",
      "Nope - fruitcakes like Koresh have been demonstrating such evil corruption\n",
      "for centuries.\n",
      " \n",
      "/////////NEXT/////////\n",
      " \n",
      "Label: sci.space\n",
      "\n",
      " >In article <1993Apr19.020359.26996@sq.sq.com>, msb@sq.sq.com (Mark Brader) \n",
      "\n",
      "MB>                                                             So the\n",
      "MB> 1970 figure seems unlikely to actually be anything but a perijove.\n",
      "\n",
      "JG>Sorry, _perijoves_...I'm not used to talking this language.\n",
      "\n",
      "Couldn't we just say periapsis or apoapsis?\n",
      "\n",
      " \n",
      " \n",
      "/////////NEXT/////////\n",
      " \n",
      "Label: alt.atheism\n",
      "I have a request for those who would like to see Charley Wingate\n",
      "respond to the \"Charley Challenges\" (and judging from my e-mail, there\n",
      "appear to be quite a few of you.)  \n",
      "\n",
      "It is clear that Mr. Wingate intends to continue to post tangential or\n",
      "unrelated articles while ingoring the Challenges themselves.  Between\n",
      "the last two re-postings of the Challenges, I noted perhaps a dozen or\n",
      "more posts by Mr. Wingate, none of which answered a single Challenge.  \n",
      "\n",
      "It seems unmistakable to me that Mr. Wingate hopes that the questions\n",
      "will just go away, and he is doing his level best to change the\n",
      "subject.  Given that this seems a rather common net.theist tactic, I\n",
      "would like to suggest that we impress upon him our desire for answers,\n",
      "in the following manner:\n",
      "\n",
      "1. Ignore any future articles by Mr. Wingate that do not address the\n",
      "Challenges, until he answers them or explictly announces that he\n",
      "refuses to do so.\n",
      "\n",
      "--or--\n",
      "\n",
      "2. If you must respond to one of his articles, include within it\n",
      "something similar to the following:\n",
      "\n",
      "    \"Please answer the questions posed to you in the Charley Challenges.\"\n",
      "\n",
      "Really, I'm not looking to humiliate anyone here, I just want some\n",
      "honest answers.  You wouldn't think that honesty would be too much to\n",
      "ask from a devout Christian, would you?  \n",
      "\n",
      "Nevermind, that was a rhetorical question.\n",
      " \n",
      "/////////NEXT/////////\n",
      " \n",
      "Label: sci.space\n",
      "AW&ST  had a brief blurb on a Manned Lunar Exploration confernce\n",
      "May 7th  at Crystal City Virginia, under the auspices of AIAA.\n",
      "\n",
      "Does anyone know more about this?  How much, to attend????\n",
      "\n",
      "Anyone want to go?\n",
      " \n",
      "/////////NEXT/////////\n",
      " \n"
     ]
    }
   ],
   "source": [
    "def P1(num_examples=5):\n",
    "    for i in range(num_examples):\n",
    "        print ('Label' + ':', newsgroups_train.target_names[train_labels[i]]), \n",
    "        print (train_data[i])\n",
    "        print (\" \")\n",
    "        print (\"/////////NEXT/////////\")\n",
    "        print (\" \")\n",
    "P1()"
   ]
  },
  {
   "cell_type": "markdown",
   "metadata": {
    "colab_type": "text",
    "id": "onfno6uHFsxm"
   },
   "source": [
    "### Part 2:\n",
    "\n",
    "Use CountVectorizer to turn the raw training text into feature vectors. You should use the fit_transform function, which makes 2 passes through the data: first it computes the vocabulary (\"fit\"), second it converts the raw text into feature vectors using the vocabulary (\"transform\").\n",
    "\n",
    "The vectorizer has a lot of options. To get familiar with some of them, write code to answer these questions:\n",
    "\n",
    "a. The output of the transform (also of fit_transform) is a sparse matrix: http://docs.scipy.org/doc/scipy-0.14.0/reference/generated/scipy.sparse.csr_matrix.html. What is the size of the vocabulary? What is the average number of non-zero features per example? What fraction of the entries in the matrix are non-zero? Hint: use \"nnz\" and \"shape\" attributes.\n",
    "\n",
    "b. What are the 0th and last feature strings (in alphabetical order)? Hint: use the vectorizer's get_feature_names function.\n",
    "\n",
    "c. Specify your own vocabulary with 4 words: [\"atheism\", \"graphics\", \"space\", \"religion\"]. Confirm the training vectors are appropriately shaped. Now what's the average number of non-zero features per example?\n",
    "\n",
    "d. Instead of extracting unigram word features, use \"analyzer\" and \"ngram_range\" to extract bigram and trigram character features. What size vocabulary does this yield?\n",
    "\n",
    "e. Use the \"min_df\" argument to prune words that appear in fewer than 10 documents. What size vocabulary does this yield?\n",
    "\n",
    "f. Using the standard CountVectorizer, what fraction of the words in the dev data are missing from the vocabulary? Hint: build a vocabulary for both train and dev and look at the size of the difference."
   ]
  },
  {
   "cell_type": "code",
   "execution_count": 59,
   "metadata": {
    "colab": {},
    "colab_type": "code",
    "id": "LyVwk5RvFsxn"
   },
   "outputs": [
    {
     "name": "stdout",
     "output_type": "stream",
     "text": [
      "a:\n",
      "Size of the vocabulary: 26879\n",
      "Average non-zero features per example: 96.71.\n",
      "\n",
      "Fraction of non zero entries from training data: 0.0035978272269590263\n",
      "//////\n",
      "b:\n",
      "First Feature String: 00\n",
      "Last Feature String: zyxel\n",
      "//////\n",
      "c:\n",
      "Shape with custom vocabulary:  (2034, 4)\n",
      "Avg number of Non zero features with custom vocabulary:  0.26843657817109146\n",
      "//////\n",
      "d:\n",
      "Size of Vocabulary for bigram data: 3291\n",
      "Size of Vocabulary for trigram data: 3291\n",
      "//////\n",
      "e:\n",
      "Size of vocab with min_df=10:  3064\n",
      "//////\n",
      "f:\n",
      "Size of vocab with dev data:  16246\n",
      "Fraction of words missing in dev data:  0.395587633468507\n"
     ]
    }
   ],
   "source": [
    "def P2():\n",
    "    \n",
    "    print (\"a:\")\n",
    "    vectorizer = CountVectorizer()\n",
    "    train_counts_default = vectorizer.fit_transform(train_data)\n",
    "    print ('Size of the vocabulary:', len(vectorizer.vocabulary_))\n",
    "    num = (train_counts_default.nnz)/2034\n",
    "    print (\"Average non-zero features per example: {:0.2f}.\\n\".format(num))\n",
    "    print (\"Fraction of non zero entries from training data:\", (train_counts_default.nnz)/(26879.0*2034))\n",
    "    \n",
    "    print (\"//////\")\n",
    "    \n",
    "    print (\"b:\")\n",
    "    print (\"First Feature String:\",vectorizer.get_feature_names()[0])\n",
    "    print (\"Last Feature String:\", vectorizer.get_feature_names()[26878])\n",
    "           \n",
    "    print (\"//////\")\n",
    "    \n",
    "   \n",
    "    print (\"c:\")\n",
    "    vectorizer_c = CountVectorizer(vocabulary=[\"atheism\", \"graphics\", \"space\", \"religion\"])\n",
    "    train_counts_custom_vocab = vectorizer_c.transform(train_data)\n",
    "    print ('Shape with custom vocabulary: ', train_counts_custom_vocab.shape)\n",
    "    print ('Avg number of Non zero features with custom vocabulary: ',float(train_counts_custom_vocab.nnz)/2034.0)\n",
    "    \n",
    "    print (\"//////\")\n",
    "    \n",
    "\n",
    "    print (\"d:\")\n",
    "    vectorizer_d = CountVectorizer(analyzer='char', ngram_range=(2,2))\n",
    "    train_counts_bigram = vectorizer_d.fit_transform(train_data)\n",
    "    print ('Size of Vocabulary for bigram data:' , len(vectorizer_d.vocabulary_))\n",
    "    \n",
    "    vectorizer_e = CountVectorizer(analyzer='char', ngram_range=(3,3))\n",
    "    train_counts_trigram = vectorizer_d.fit_transform(train_data)\n",
    "    print ('Size of Vocabulary for trigram data:' , len(vectorizer_d.vocabulary_))\n",
    "    \n",
    "    print (\"//////\")\n",
    "    \n",
    "   \n",
    "    print (\"e:\")\n",
    "    vectorizer_f = CountVectorizer(min_df=10)\n",
    "    train_counts_min10 = vectorizer_f.fit_transform(train_data)\n",
    "    print ('Size of vocab with min_df=10: ', len(vectorizer_f.vocabulary_))\n",
    "    \n",
    "    print (\"//////\")\n",
    "    \n",
    "  \n",
    "    print (\"f:\")\n",
    "    vectorizer_h = CountVectorizer()\n",
    "    train_counts_dev = vectorizer_h.fit_transform(dev_data)\n",
    "    print ('Size of vocab with dev data: ', len(vectorizer_h.vocabulary_))\n",
    "    print ('Fraction of words missing in dev data: ', float(len(vectorizer.vocabulary_)-len(vectorizer_h.vocabulary_))/float(26879))\n",
    "    \n",
    "\n",
    "P2()"
   ]
  },
  {
   "cell_type": "markdown",
   "metadata": {
    "colab_type": "text",
    "id": "ydjkRh6LFsxp"
   },
   "source": [
    "### Part 3:\n",
    "\n",
    "Use the default CountVectorizer options and report the f1 score (use metrics.f1_score with average=\"weighted\") for a k nearest neighbors classifier; find the optimal value for k. Also fit a Multinomial Naive Bayes model and find the optimal value for alpha. Finally, fit a logistic regression model and find the optimal value for the regularization strength C using l2 regularization. A few questions:\n",
    "\n",
    "* Why doesn't nearest neighbors work well for this problem?\n",
    "* Any ideas why logistic regression doesn't work as well as Naive Bayes?\n",
    "* Logistic regression estimates a weight vector for each class, which you can access with the coef\\_ attribute. Output the sum of the squared weight values for each class for each setting of the C parameter. Briefly explain the relationship between the sum and the value of C."
   ]
  },
  {
   "cell_type": "code",
   "execution_count": 72,
   "metadata": {
    "colab": {},
    "colab_type": "code",
    "id": "VvhpODdWFsxp"
   },
   "outputs": [
    {
     "name": "stdout",
     "output_type": "stream",
     "text": [
      "best k value:\n",
      "{'n_neighbors': 7}\n"
     ]
    },
    {
     "name": "stderr",
     "output_type": "stream",
     "text": [
      "/Users/candice/opt/anaconda3/lib/python3.8/site-packages/sklearn/naive_bayes.py:511: UserWarning: alpha too small will result in numeric errors, setting alpha = 1.0e-10\n",
      "  warnings.warn('alpha too small will result in numeric errors, '\n",
      "/Users/candice/opt/anaconda3/lib/python3.8/site-packages/sklearn/naive_bayes.py:511: UserWarning: alpha too small will result in numeric errors, setting alpha = 1.0e-10\n",
      "  warnings.warn('alpha too small will result in numeric errors, '\n",
      "/Users/candice/opt/anaconda3/lib/python3.8/site-packages/sklearn/naive_bayes.py:511: UserWarning: alpha too small will result in numeric errors, setting alpha = 1.0e-10\n",
      "  warnings.warn('alpha too small will result in numeric errors, '\n",
      "/Users/candice/opt/anaconda3/lib/python3.8/site-packages/sklearn/naive_bayes.py:511: UserWarning: alpha too small will result in numeric errors, setting alpha = 1.0e-10\n",
      "  warnings.warn('alpha too small will result in numeric errors, '\n",
      "/Users/candice/opt/anaconda3/lib/python3.8/site-packages/sklearn/naive_bayes.py:511: UserWarning: alpha too small will result in numeric errors, setting alpha = 1.0e-10\n",
      "  warnings.warn('alpha too small will result in numeric errors, '\n"
     ]
    },
    {
     "name": "stdout",
     "output_type": "stream",
     "text": [
      "Best alpha value:\n",
      "{'alpha': 0.1}\n"
     ]
    },
    {
     "name": "stderr",
     "output_type": "stream",
     "text": [
      "/Users/candice/opt/anaconda3/lib/python3.8/site-packages/sklearn/linear_model/_logistic.py:762: ConvergenceWarning: lbfgs failed to converge (status=1):\n",
      "STOP: TOTAL NO. of ITERATIONS REACHED LIMIT.\n",
      "\n",
      "Increase the number of iterations (max_iter) or scale the data as shown in:\n",
      "    https://scikit-learn.org/stable/modules/preprocessing.html\n",
      "Please also refer to the documentation for alternative solver options:\n",
      "    https://scikit-learn.org/stable/modules/linear_model.html#logistic-regression\n",
      "  n_iter_i = _check_optimize_result(\n"
     ]
    },
    {
     "name": "stdout",
     "output_type": "stream",
     "text": [
      "C:0.1:  14.128206384116098 , 14.492792306267589 , 15.517147411493088 , 12.891563679350764\n"
     ]
    },
    {
     "name": "stderr",
     "output_type": "stream",
     "text": [
      "/Users/candice/opt/anaconda3/lib/python3.8/site-packages/sklearn/linear_model/_logistic.py:762: ConvergenceWarning: lbfgs failed to converge (status=1):\n",
      "STOP: TOTAL NO. of ITERATIONS REACHED LIMIT.\n",
      "\n",
      "Increase the number of iterations (max_iter) or scale the data as shown in:\n",
      "    https://scikit-learn.org/stable/modules/preprocessing.html\n",
      "Please also refer to the documentation for alternative solver options:\n",
      "    https://scikit-learn.org/stable/modules/linear_model.html#logistic-regression\n",
      "  n_iter_i = _check_optimize_result(\n"
     ]
    },
    {
     "name": "stdout",
     "output_type": "stream",
     "text": [
      "C:0.2:  24.326828609052853 , 23.596334746476913 , 26.10255605997954 , 22.40093749594198\n"
     ]
    },
    {
     "name": "stderr",
     "output_type": "stream",
     "text": [
      "/Users/candice/opt/anaconda3/lib/python3.8/site-packages/sklearn/linear_model/_logistic.py:762: ConvergenceWarning: lbfgs failed to converge (status=1):\n",
      "STOP: TOTAL NO. of ITERATIONS REACHED LIMIT.\n",
      "\n",
      "Increase the number of iterations (max_iter) or scale the data as shown in:\n",
      "    https://scikit-learn.org/stable/modules/preprocessing.html\n",
      "Please also refer to the documentation for alternative solver options:\n",
      "    https://scikit-learn.org/stable/modules/linear_model.html#logistic-regression\n",
      "  n_iter_i = _check_optimize_result(\n"
     ]
    },
    {
     "name": "stdout",
     "output_type": "stream",
     "text": [
      "C:0.3:  33.13874218035369 , 31.206563951407574 , 35.00853825752277 , 30.54868607983069\n"
     ]
    },
    {
     "name": "stderr",
     "output_type": "stream",
     "text": [
      "/Users/candice/opt/anaconda3/lib/python3.8/site-packages/sklearn/linear_model/_logistic.py:762: ConvergenceWarning: lbfgs failed to converge (status=1):\n",
      "STOP: TOTAL NO. of ITERATIONS REACHED LIMIT.\n",
      "\n",
      "Increase the number of iterations (max_iter) or scale the data as shown in:\n",
      "    https://scikit-learn.org/stable/modules/preprocessing.html\n",
      "Please also refer to the documentation for alternative solver options:\n",
      "    https://scikit-learn.org/stable/modules/linear_model.html#logistic-regression\n",
      "  n_iter_i = _check_optimize_result(\n"
     ]
    },
    {
     "name": "stdout",
     "output_type": "stream",
     "text": [
      "C:0.4:  40.72629382214433 , 37.523787604217816 , 42.509464828256945 , 37.608023721520304\n"
     ]
    },
    {
     "name": "stderr",
     "output_type": "stream",
     "text": [
      "/Users/candice/opt/anaconda3/lib/python3.8/site-packages/sklearn/linear_model/_logistic.py:762: ConvergenceWarning: lbfgs failed to converge (status=1):\n",
      "STOP: TOTAL NO. of ITERATIONS REACHED LIMIT.\n",
      "\n",
      "Increase the number of iterations (max_iter) or scale the data as shown in:\n",
      "    https://scikit-learn.org/stable/modules/preprocessing.html\n",
      "Please also refer to the documentation for alternative solver options:\n",
      "    https://scikit-learn.org/stable/modules/linear_model.html#logistic-regression\n",
      "  n_iter_i = _check_optimize_result(\n"
     ]
    },
    {
     "name": "stdout",
     "output_type": "stream",
     "text": [
      "C:0.5:  46.909065982481124 , 42.691752617923754 , 48.57942425277993 , 43.34836654794975\n"
     ]
    },
    {
     "name": "stderr",
     "output_type": "stream",
     "text": [
      "/Users/candice/opt/anaconda3/lib/python3.8/site-packages/sklearn/linear_model/_logistic.py:762: ConvergenceWarning: lbfgs failed to converge (status=1):\n",
      "STOP: TOTAL NO. of ITERATIONS REACHED LIMIT.\n",
      "\n",
      "Increase the number of iterations (max_iter) or scale the data as shown in:\n",
      "    https://scikit-learn.org/stable/modules/preprocessing.html\n",
      "Please also refer to the documentation for alternative solver options:\n",
      "    https://scikit-learn.org/stable/modules/linear_model.html#logistic-regression\n",
      "  n_iter_i = _check_optimize_result(\n"
     ]
    },
    {
     "name": "stdout",
     "output_type": "stream",
     "text": [
      "C:0.6:  52.42930331141253 , 47.238088511495036 , 53.944200306570124 , 48.51664432813363\n"
     ]
    },
    {
     "name": "stderr",
     "output_type": "stream",
     "text": [
      "/Users/candice/opt/anaconda3/lib/python3.8/site-packages/sklearn/linear_model/_logistic.py:762: ConvergenceWarning: lbfgs failed to converge (status=1):\n",
      "STOP: TOTAL NO. of ITERATIONS REACHED LIMIT.\n",
      "\n",
      "Increase the number of iterations (max_iter) or scale the data as shown in:\n",
      "    https://scikit-learn.org/stable/modules/preprocessing.html\n",
      "Please also refer to the documentation for alternative solver options:\n",
      "    https://scikit-learn.org/stable/modules/linear_model.html#logistic-regression\n",
      "  n_iter_i = _check_optimize_result(\n"
     ]
    },
    {
     "name": "stdout",
     "output_type": "stream",
     "text": [
      "C:0.7:  59.22402887629307 , 52.44741436343786 , 60.262977179831 , 54.818580525710786\n"
     ]
    },
    {
     "name": "stderr",
     "output_type": "stream",
     "text": [
      "/Users/candice/opt/anaconda3/lib/python3.8/site-packages/sklearn/linear_model/_logistic.py:762: ConvergenceWarning: lbfgs failed to converge (status=1):\n",
      "STOP: TOTAL NO. of ITERATIONS REACHED LIMIT.\n",
      "\n",
      "Increase the number of iterations (max_iter) or scale the data as shown in:\n",
      "    https://scikit-learn.org/stable/modules/preprocessing.html\n",
      "Please also refer to the documentation for alternative solver options:\n",
      "    https://scikit-learn.org/stable/modules/linear_model.html#logistic-regression\n",
      "  n_iter_i = _check_optimize_result(\n"
     ]
    },
    {
     "name": "stdout",
     "output_type": "stream",
     "text": [
      "C:0.8:  63.54993991410893 , 56.39905858617962 , 64.63562715256974 , 58.70592874369615\n"
     ]
    },
    {
     "name": "stderr",
     "output_type": "stream",
     "text": [
      "/Users/candice/opt/anaconda3/lib/python3.8/site-packages/sklearn/linear_model/_logistic.py:762: ConvergenceWarning: lbfgs failed to converge (status=1):\n",
      "STOP: TOTAL NO. of ITERATIONS REACHED LIMIT.\n",
      "\n",
      "Increase the number of iterations (max_iter) or scale the data as shown in:\n",
      "    https://scikit-learn.org/stable/modules/preprocessing.html\n",
      "Please also refer to the documentation for alternative solver options:\n",
      "    https://scikit-learn.org/stable/modules/linear_model.html#logistic-regression\n",
      "  n_iter_i = _check_optimize_result(\n"
     ]
    },
    {
     "name": "stdout",
     "output_type": "stream",
     "text": [
      "C:0.9:  69.1353581005715 , 60.401210168783976 , 69.63352615904138 , 63.986765099195125\n"
     ]
    },
    {
     "name": "stderr",
     "output_type": "stream",
     "text": [
      "/Users/candice/opt/anaconda3/lib/python3.8/site-packages/sklearn/linear_model/_logistic.py:762: ConvergenceWarning: lbfgs failed to converge (status=1):\n",
      "STOP: TOTAL NO. of ITERATIONS REACHED LIMIT.\n",
      "\n",
      "Increase the number of iterations (max_iter) or scale the data as shown in:\n",
      "    https://scikit-learn.org/stable/modules/preprocessing.html\n",
      "Please also refer to the documentation for alternative solver options:\n",
      "    https://scikit-learn.org/stable/modules/linear_model.html#logistic-regression\n",
      "  n_iter_i = _check_optimize_result(\n"
     ]
    },
    {
     "name": "stdout",
     "output_type": "stream",
     "text": [
      "C:1.0:  73.3197353072965 , 63.21531288734631 , 73.13713313381197 , 67.84703508560399\n"
     ]
    },
    {
     "name": "stderr",
     "output_type": "stream",
     "text": [
      "/Users/candice/opt/anaconda3/lib/python3.8/site-packages/sklearn/linear_model/_logistic.py:762: ConvergenceWarning: lbfgs failed to converge (status=1):\n",
      "STOP: TOTAL NO. of ITERATIONS REACHED LIMIT.\n",
      "\n",
      "Increase the number of iterations (max_iter) or scale the data as shown in:\n",
      "    https://scikit-learn.org/stable/modules/preprocessing.html\n",
      "Please also refer to the documentation for alternative solver options:\n",
      "    https://scikit-learn.org/stable/modules/linear_model.html#logistic-regression\n",
      "  n_iter_i = _check_optimize_result(\n"
     ]
    },
    {
     "name": "stdout",
     "output_type": "stream",
     "text": [
      "C:1.5:  93.13713040483745 , 79.3076428845487 , 91.97153561368475 , 86.18411603376688\n"
     ]
    },
    {
     "name": "stderr",
     "output_type": "stream",
     "text": [
      "/Users/candice/opt/anaconda3/lib/python3.8/site-packages/sklearn/linear_model/_logistic.py:762: ConvergenceWarning: lbfgs failed to converge (status=1):\n",
      "STOP: TOTAL NO. of ITERATIONS REACHED LIMIT.\n",
      "\n",
      "Increase the number of iterations (max_iter) or scale the data as shown in:\n",
      "    https://scikit-learn.org/stable/modules/preprocessing.html\n",
      "Please also refer to the documentation for alternative solver options:\n",
      "    https://scikit-learn.org/stable/modules/linear_model.html#logistic-regression\n",
      "  n_iter_i = _check_optimize_result(\n"
     ]
    },
    {
     "name": "stdout",
     "output_type": "stream",
     "text": [
      "C:2.0:  106.81210899438234 , 90.69744308188028 , 105.28667214347047 , 99.19552599930557\n"
     ]
    },
    {
     "name": "stderr",
     "output_type": "stream",
     "text": [
      "/Users/candice/opt/anaconda3/lib/python3.8/site-packages/sklearn/linear_model/_logistic.py:762: ConvergenceWarning: lbfgs failed to converge (status=1):\n",
      "STOP: TOTAL NO. of ITERATIONS REACHED LIMIT.\n",
      "\n",
      "Increase the number of iterations (max_iter) or scale the data as shown in:\n",
      "    https://scikit-learn.org/stable/modules/preprocessing.html\n",
      "Please also refer to the documentation for alternative solver options:\n",
      "    https://scikit-learn.org/stable/modules/linear_model.html#logistic-regression\n",
      "  n_iter_i = _check_optimize_result(\n"
     ]
    },
    {
     "name": "stdout",
     "output_type": "stream",
     "text": [
      "C:5.0:  170.5684143198751 , 140.88824767971875 , 162.7267137633135 , 160.3610182155253\n"
     ]
    },
    {
     "name": "stderr",
     "output_type": "stream",
     "text": [
      "/Users/candice/opt/anaconda3/lib/python3.8/site-packages/sklearn/linear_model/_logistic.py:762: ConvergenceWarning: lbfgs failed to converge (status=1):\n",
      "STOP: TOTAL NO. of ITERATIONS REACHED LIMIT.\n",
      "\n",
      "Increase the number of iterations (max_iter) or scale the data as shown in:\n",
      "    https://scikit-learn.org/stable/modules/preprocessing.html\n",
      "Please also refer to the documentation for alternative solver options:\n",
      "    https://scikit-learn.org/stable/modules/linear_model.html#logistic-regression\n",
      "  n_iter_i = _check_optimize_result(\n"
     ]
    },
    {
     "name": "stdout",
     "output_type": "stream",
     "text": [
      "C:10.0:  216.43866989708667 , 178.12331382223405 , 205.76969319776276 , 207.25759881601692\n"
     ]
    },
    {
     "name": "stderr",
     "output_type": "stream",
     "text": [
      "/Users/candice/opt/anaconda3/lib/python3.8/site-packages/sklearn/linear_model/_logistic.py:762: ConvergenceWarning: lbfgs failed to converge (status=1):\n",
      "STOP: TOTAL NO. of ITERATIONS REACHED LIMIT.\n",
      "\n",
      "Increase the number of iterations (max_iter) or scale the data as shown in:\n",
      "    https://scikit-learn.org/stable/modules/preprocessing.html\n",
      "Please also refer to the documentation for alternative solver options:\n",
      "    https://scikit-learn.org/stable/modules/linear_model.html#logistic-regression\n",
      "  n_iter_i = _check_optimize_result(\n"
     ]
    },
    {
     "name": "stdout",
     "output_type": "stream",
     "text": [
      "C:25.0:  325.58526764240804 , 268.23800774943504 , 306.64867120256054 , 316.53823595277896\n"
     ]
    },
    {
     "name": "stderr",
     "output_type": "stream",
     "text": [
      "/Users/candice/opt/anaconda3/lib/python3.8/site-packages/sklearn/linear_model/_logistic.py:762: ConvergenceWarning: lbfgs failed to converge (status=1):\n",
      "STOP: TOTAL NO. of ITERATIONS REACHED LIMIT.\n",
      "\n",
      "Increase the number of iterations (max_iter) or scale the data as shown in:\n",
      "    https://scikit-learn.org/stable/modules/preprocessing.html\n",
      "Please also refer to the documentation for alternative solver options:\n",
      "    https://scikit-learn.org/stable/modules/linear_model.html#logistic-regression\n",
      "  n_iter_i = _check_optimize_result(\n"
     ]
    },
    {
     "name": "stdout",
     "output_type": "stream",
     "text": [
      "C:50.0:  394.5925060258676 , 330.9833123707083 , 376.8688865071427 , 386.44763806453585\n",
      "C:100.0:  482.9040340388268 , 405.33301140546706 , 465.1122095737507 , 483.7332644251226\n",
      " \n",
      "Best C value:\n",
      "0.1\n"
     ]
    },
    {
     "name": "stderr",
     "output_type": "stream",
     "text": [
      "/Users/candice/opt/anaconda3/lib/python3.8/site-packages/sklearn/linear_model/_logistic.py:762: ConvergenceWarning: lbfgs failed to converge (status=1):\n",
      "STOP: TOTAL NO. of ITERATIONS REACHED LIMIT.\n",
      "\n",
      "Increase the number of iterations (max_iter) or scale the data as shown in:\n",
      "    https://scikit-learn.org/stable/modules/preprocessing.html\n",
      "Please also refer to the documentation for alternative solver options:\n",
      "    https://scikit-learn.org/stable/modules/linear_model.html#logistic-regression\n",
      "  n_iter_i = _check_optimize_result(\n"
     ]
    }
   ],
   "source": [
    "def P3():\n",
    "\n",
    "    count_vectorizer = CountVectorizer()\n",
    "    train_counts = count_vectorizer.fit_transform(train_data)\n",
    "    dev_count = count_vectorizer.transform(dev_data)\n",
    "\n",
    "   \n",
    "    knn_clf = KNeighborsClassifier()\n",
    "    knn_params = {'n_neighbors':[1, 3, 5, 7, 9, 15, 25]}\n",
    "    gsv_knn = GridSearchCV(knn_clf,knn_params,scoring='f1_weighted')\n",
    "    gsv_knn.fit(train_counts,train_labels)\n",
    "    print (\"best k value:\")\n",
    "    print (gsv_knn.best_params_)\n",
    "    \n",
    "   \n",
    "    mnb_clf = MultinomialNB()\n",
    "    mnb_params = {'alpha':[0.0, 0.1, 0.2, 0.3, 0.4, 0.5, 0.6, 0.7, 0.8, 0.9, 1.0]}\n",
    "    gsv_mnb = GridSearchCV(mnb_clf,mnb_params,scoring='f1_weighted')\n",
    "    gsv_mnb.fit(train_counts,train_labels)\n",
    "    print (\"Best alpha value:\")\n",
    "    print (gsv_mnb.best_params_)\n",
    "\n",
    "    \n",
    "    l_reg_params = [0.1, 0.2, 0.3, 0.4, 0.5, 0.6, 0.7, 0.8, 0.9, 1.0, 1.5, 2.0, 5.0, 10.0, 25.0, 50.0, 100.0]\n",
    "    scores = np.empty((17, ))\n",
    "    \n",
    "    \n",
    "    cnt = 0;\n",
    "    for l in l_reg_params:\n",
    "        l_reg_clf = LogisticRegression(C=l) \n",
    "        model = l_reg_clf.fit(train_counts,train_labels)\n",
    "        \n",
    "      \n",
    "        predicted_labels_lr = l_reg_clf.predict(dev_count)\n",
    "        scores[cnt]=metrics.f1_score(dev_labels,predicted_labels_lr,average='weighted')\n",
    "      \n",
    "        print ('C:' + str(l)+ ': ', np.sum(np.square(model.coef_[0])), \",\" ,\n",
    "               np.sum(np.square(model.coef_[1])), \",\", np.sum(np.square(model.coef_[2])), \",\" ,\n",
    "               np.sum(np.square(model.coef_[3])))\n",
    "        cnt+=1\n",
    "        \n",
    "    print (\" \")\n",
    "    score = np.where(scores==np.max(scores))[0] \n",
    "    print ('Best C value:')\n",
    "    print(l_reg_params[score[0]])\n",
    "   \n",
    "P3()"
   ]
  },
  {
   "cell_type": "markdown",
   "metadata": {
    "colab_type": "text",
    "id": "jWtXwAlOFsxr"
   },
   "source": [
    "ANSWER: K-nearest neighbors doesn't work well for this problem due to overfitting on training data. Logistic regression doesn't work well for the same reason of overfitting but it works a little bit better than KNN. \n",
    "C val increases when the sum of squared weughts increase because when the C is higher, the effect of regularization decreases."
   ]
  },
  {
   "cell_type": "markdown",
   "metadata": {
    "colab_type": "text",
    "id": "dGEjsm_uFsxr"
   },
   "source": [
    "### Part 4:\n",
    "\n",
    "Train a logistic regression model. Find the 5 features with the largest weights for each label -- 20 features in total. Create a table with 20 rows and 4 columns that shows the weight for each of these features for each of the labels. Create the table again with bigram features. Any surprising features in this table?"
   ]
  },
  {
   "cell_type": "code",
   "execution_count": 75,
   "metadata": {
    "colab": {},
    "colab_type": "code",
    "id": "WN51Nv4fFsxs"
   },
   "outputs": [
    {
     "name": "stderr",
     "output_type": "stream",
     "text": [
      "/Users/candice/opt/anaconda3/lib/python3.8/site-packages/sklearn/linear_model/_logistic.py:762: ConvergenceWarning: lbfgs failed to converge (status=1):\n",
      "STOP: TOTAL NO. of ITERATIONS REACHED LIMIT.\n",
      "\n",
      "Increase the number of iterations (max_iter) or scale the data as shown in:\n",
      "    https://scikit-learn.org/stable/modules/preprocessing.html\n",
      "Please also refer to the documentation for alternative solver options:\n",
      "    https://scikit-learn.org/stable/modules/linear_model.html#logistic-regression\n",
      "  n_iter_i = _check_optimize_result(\n"
     ]
    },
    {
     "name": "stdout",
     "output_type": "stream",
     "text": [
      "Unigram:\n",
      "['posting' 'atheism' 'religion' 'atheists' 'deletion' 'files' '3d' 'file'\n",
      " 'image' 'graphics' 'spacecraft' 'launch' 'nasa' 'orbit' 'space' 'fbi'\n",
      " 'blood' 'god' 'christian' 'christians']\n",
      "[[ 0.63 -0.13 -0.06 -0.45]\n",
      " [ 0.68 -0.29 -0.27 -0.12]\n",
      " [ 0.74 -0.4  -0.49  0.14]\n",
      " [ 0.75 -0.06 -0.21 -0.49]\n",
      " [ 0.95 -0.33 -0.34 -0.27]\n",
      " [-0.3   0.65 -0.03 -0.32]\n",
      " [-0.17  0.75 -0.38 -0.2 ]\n",
      " [-0.15  0.92 -0.41 -0.36]\n",
      " [-0.33  1.02 -0.44 -0.25]\n",
      " [-0.36  1.4  -0.69 -0.35]\n",
      " [-0.18 -0.24  0.64 -0.22]\n",
      " [-0.26 -0.21  0.65 -0.18]\n",
      " [-0.42 -0.07  0.79 -0.3 ]\n",
      " [-0.19 -0.33  0.85 -0.32]\n",
      " [-0.59 -0.46  1.67 -0.62]\n",
      " [-0.18 -0.17 -0.24  0.6 ]\n",
      " [-0.37 -0.09 -0.23  0.68]\n",
      " [ 0.35 -0.55 -0.55  0.76]\n",
      " [-0.32 -0.28 -0.17  0.77]\n",
      " [-0.34 -0.22 -0.3   0.86]]\n",
      "Score:\n",
      "0.6923076923076923\n",
      " \n",
      "Bigram:\n",
      "['you are' 'look up' 'was just' 'cheers kent' 'claim that' 'out there'\n",
      " 'is there' 'in advance' 'comp graphics' 'looking for' 'sci space'\n",
      " 'how ironic' 'sherzer methodology' 'the moon' 'the space' 'cheers kent'\n",
      " 'is strength' 'ignorance is' 'compuserve com' 'such lunacy']\n",
      "[[ 0.47 -0.18 -0.38  0.09]\n",
      " [ 0.5  -0.19 -0.17 -0.15]\n",
      " [ 0.52 -0.15 -0.15 -0.22]\n",
      " [ 0.54 -0.55 -0.5   0.52]\n",
      " [ 0.54 -0.18 -0.23 -0.13]\n",
      " [-0.16  0.64 -0.31 -0.17]\n",
      " [-0.23  0.7  -0.29 -0.18]\n",
      " [-0.27  0.73 -0.21 -0.25]\n",
      " [-0.24  0.77 -0.28 -0.25]\n",
      " [-0.41  1.01 -0.21 -0.38]\n",
      " [-0.17 -0.19  0.52 -0.15]\n",
      " [-0.17 -0.22  0.56 -0.17]\n",
      " [-0.17 -0.23  0.58 -0.18]\n",
      " [-0.22 -0.31  0.63 -0.1 ]\n",
      " [-0.17 -0.35  0.69 -0.17]\n",
      " [ 0.54 -0.55 -0.5   0.52]\n",
      " [-0.15 -0.19 -0.17  0.52]\n",
      " [-0.18 -0.21 -0.19  0.58]\n",
      " [-0.16 -0.23 -0.22  0.6 ]\n",
      " [-0.17 -0.23 -0.21  0.61]]\n",
      "Score:\n",
      "0.6272189349112426\n",
      " \n"
     ]
    }
   ],
   "source": [
    "def P4():\n",
    "    labels = [\"Unigram\", \"Bigram\"]\n",
    "    for n in range(2):\n",
    "        vectorizer = CountVectorizer(ngram_range=(n+1, n+1))\n",
    "        d_matrix_train = vectorizer.fit_transform(train_data)\n",
    "        d_matrix_dev = vectorizer.transform(dev_data)\n",
    "      \n",
    "    \n",
    "        model = LogisticRegression()\n",
    "        model.fit(d_matrix_train, train_labels)\n",
    "     \n",
    "    \n",
    "        sorted_wt = np.argsort(model.coef_, axis=1)\n",
    "        \n",
    "        maxindex_wt = sorted_wt[:, -5:].flatten()    \n",
    "        \n",
    "        words = np.array(vectorizer.get_feature_names())\n",
    "        \n",
    "        print (labels[n] + \":\")\n",
    "        \n",
    "        print (words[maxindex_wt])\n",
    "        print (np.transpose(np.round(model.coef_[:, maxindex_wt],2)))\n",
    "        \n",
    "        print (\"Score:\")\n",
    "        print (model.score(d_matrix_dev, dev_labels))\n",
    "        \n",
    "        print (\" \")\n",
    "P4()"
   ]
  },
  {
   "cell_type": "markdown",
   "metadata": {
    "colab_type": "text",
    "id": "rVWhSJHHFsxu"
   },
   "source": [
    "### Part 5:\n",
    "\n",
    "Try to improve the logistic regression classifier by passing a custom preprocessor to CountVectorizer. The preprocessing function runs on the raw text, before it is split into words by the tokenizer. Your preprocessor should try to normalize the input in various ways to improve generalization. For example, try lowercasing everything, replacing sequences of numbers with a single token, removing various other non-letter characters, and shortening long words. If you're not already familiar with regular expressions for manipulating strings, see https://docs.python.org/2/library/re.html, and re.sub() in particular. With your new preprocessor, how much did you reduce the size of the dictionary?\n",
    "\n",
    "For reference, I was able to improve dev F1 by 2 points."
   ]
  },
  {
   "cell_type": "markdown",
   "metadata": {
    "colab_type": "text",
    "id": "cY67F-tXFsxt"
   },
   "source": [
    "ANSWER: It is interesting that bigram accuracy score is less than unigram, and also it is easier to make connections in unigram."
   ]
  },
  {
   "cell_type": "code",
   "execution_count": 87,
   "metadata": {
    "colab": {},
    "colab_type": "code",
    "id": "l7gS3cGpFsxv"
   },
   "outputs": [
    {
     "name": "stdout",
     "output_type": "stream",
     "text": [
      "Empty Preprocessor:\n",
      "Size of dictionary:\n",
      "33291\n",
      "F1 Score:\n",
      "0.6952528365499843\n",
      " \n",
      "Better Preprocessor:\n",
      "Size of dictionary:\n",
      "27224\n",
      "F1 Score:\n",
      "0.673563907826199\n",
      "Better preprocessor reduced the vocab size by: 6067\n"
     ]
    }
   ],
   "source": [
    "import string\n",
    "\n",
    "def empty_preprocessor(s):\n",
    "    return s\n",
    "\n",
    "def better_preprocessor(s):\n",
    "    s = s.lower()\n",
    "    s = re.sub('(\\d)+', 'numb', s)\n",
    "    \n",
    "    tb = str.maketrans({key: None for key in string.punctuation})\n",
    "    s = s.translate(tb)\n",
    "    s = re.sub(\"\\s+\", \" \", s)\n",
    "    s = s.strip(\" \")\n",
    "    return s\n",
    "\n",
    "def fScore(model, dev):\n",
    "    predict = model.predict(dev)\n",
    "    fScore = metrics.f1_score(dev_labels, predict, average='weighted')\n",
    "    return fScore\n",
    "\n",
    "def P5():\n",
    "    vectorizer = CountVectorizer(preprocessor = empty_preprocessor)\n",
    "    \n",
    "    x = vectorizer.fit_transform(train_data).toarray()\n",
    "    dev = vectorizer.transform(dev_data).toarray()\n",
    "    model = LogisticRegression(penalty = 'l2', solver='lbfgs', multi_class='multinomial', max_iter=1000)\n",
    "    model.fit(x, train_labels)\n",
    "    \n",
    "    fScore = CalcFScore(model, dev)\n",
    "    w_len = len(vectorizer.vocabulary_)\n",
    "    print (\"Empty Preprocessor:\")\n",
    "    print (\"Size of dictionary:\")\n",
    "    print (w_len)\n",
    "    print(\"F1 Score:\")\n",
    "    print (fScore)\n",
    "    print (\" \")\n",
    "    vectorizer = CountVectorizer(preprocessor = better_preprocessor)\n",
    "    \n",
    "    x = vectorizer.fit_transform(train_data).toarray()\n",
    "    dev = vectorizer.transform(dev_data).toarray()\n",
    "    model = LogisticRegression(penalty = 'l2', solver='lbfgs', multi_class='multinomial', max_iter=1000)\n",
    "    model.fit(x, train_labels)\n",
    "    \n",
    "    fScore = CalcFScore(model, dev)\n",
    "    w_len_impr = len(vectorizer.vocabulary_)\n",
    "    print (\"Better Preprocessor:\")\n",
    "    print (\"Size of dictionary:\")\n",
    "    print (w_len_impr)\n",
    "    print(\"F1 Score:\")\n",
    "    print (fScore)\n",
    "    \n",
    "    d_words = w_len - w_len_impr\n",
    "    print(\"Better preprocessor reduced the vocab size by: {}\".format(d_words))\n",
    "P5()"
   ]
  },
  {
   "cell_type": "markdown",
   "metadata": {
    "colab_type": "text",
    "id": "Uy-WITbNFsxw"
   },
   "source": [
    "### Part 6:\n",
    "\n",
    "The idea of regularization is to avoid learning very large weights (which are likely to fit the training data, but not generalize well) by adding a penalty to the total size of the learned weights. That is, logistic regression seeks the set of weights that minimizes errors in the training data AND has a small size. The default regularization, L2, computes this size as the sum of the squared weights (see P3, above). L1 regularization computes this size as the sum of the absolute values of the weights. The result is that whereas L2 regularization makes all the weights relatively small, L1 regularization drives lots of the weights to 0, effectively removing unimportant features.\n",
    "\n",
    "Train a logistic regression model using a \"l1\" penalty. Output the number of learned weights that are not equal to zero. How does this compare to the number of non-zero weights you get with \"l2\"? Now, reduce the size of the vocabulary by keeping only those features that have at least one non-zero weight and retrain a model using \"l2\".\n",
    "\n",
    "Make a plot showing accuracy of the re-trained model vs. the vocabulary size you get when pruning unused features by adjusting the C parameter.\n",
    "\n",
    "Note: The gradient descent code that trains the logistic regression model sometimes has trouble converging with extreme settings of the C parameter. Relax the convergence criteria by setting tol=.015 (the default is .0001)."
   ]
  },
  {
   "cell_type": "code",
   "execution_count": 71,
   "metadata": {
    "colab": {},
    "colab_type": "code",
    "id": "l6ho31SrFsxx"
   },
   "outputs": [
    {
     "name": "stdout",
     "output_type": "stream",
     "text": [
      "The number of nonzero weights with L1:  22523\n",
      "The number of nonzero weights with L2:  107516\n"
     ]
    }
   ],
   "source": [
    "def P6():\n",
    "    # Keep this random seed here to make comparison easier.\n",
    "    np.random.seed(0)\n",
    "     \n",
    "    count_vectorizer = CountVectorizer()\n",
    "    train_count = count_vectorizer.fit_transform(train_data)\n",
    "    dev_count = count_vectorizer.transform(dev_data)\n",
    "    \n",
    "    #L1\n",
    "    lr_clf_l1 = LogisticRegression(penalty='l1', solver='saga', multi_class='multinomial', max_iter=1000, C = 1.0, tol=0.01)\n",
    "    lr_cl_l1 =  lr_clf_l1.fit(train_count, train_labels)\n",
    "    \n",
    "    #L2\n",
    "    lr_clf_l2 = LogisticRegression(penalty='l2', solver='saga', multi_class='multinomial', max_iter=1000, C = 1.0, tol=0.01)\n",
    "    lr_clf_l2 =  lr_clf_l2.fit(train_count, train_labels)\n",
    "    \n",
    "    print ('The number of nonzero weights with L1: ', np.count_nonzero(lr_clf_l1.coef_))\n",
    "    print ('The number of nonzero weights with L2: ',np.count_nonzero(lr_clf_l2.coef_))\n",
    "    \n",
    "P6()"
   ]
  },
  {
   "cell_type": "markdown",
   "metadata": {
    "colab_type": "text",
    "id": "QmrHf8AMFsxz"
   },
   "source": [
    "### Part 7:\n",
    "\n",
    "Use the TfidfVectorizer -- how is this different from the CountVectorizer? Train a logistic regression model with C=100.\n",
    "\n",
    "Make predictions on the dev data and show the top 3 documents where the ratio R is largest, where R is:\n",
    "\n",
    "maximum predicted probability / predicted probability of the correct label\n",
    "\n",
    "What kinds of mistakes is the model making? Suggest a way to address one particular issue that you see."
   ]
  },
  {
   "cell_type": "code",
   "execution_count": 90,
   "metadata": {
    "colab": {},
    "colab_type": "code",
    "id": "8vwU_9t2Fsx0"
   },
   "outputs": [
    {
     "name": "stdout",
     "output_type": "stream",
     "text": [
      "Top 3 documents with largest R ratio:\n",
      "\n",
      "R-score: 244.6\n",
      "\n",
      "\n",
      "Well, you were going well until you hit this one.\n",
      "\n",
      "Hawaii was an independent country.  A coup by Americans led to a request to\n",
      "annex it.  The US refused, but eventually did annex it several years later\n",
      "during the Spanish-American War.\n",
      "--\n",
      "\"On the first day after Christmas my truelove served to me...  Leftover Turkey!\n",
      "On the second day after Christmas my truelove served to me...  Turkey Casserole\n",
      "    that she made from Leftover Turkey.\n",
      "[days 3-4 deleted] ...  Flaming Turkey Wings! ...\n",
      "   -- Pizza Hut commercial (and M*tlu/A*gic bait)\n",
      "//////////////////////////////////////////\n",
      "\n",
      "R-score: 475.0\n",
      "\n",
      "I am pleased to announce that a *revised version* of _The Easy-to-Read Book\n",
      "of Mormon_ (former title: _Mormon's Book_) by Lynn Matthews Anderson is now\n",
      "available through anonymous ftp (see information below). In addition to the\n",
      "change in title, the revised ETR BOM has been shortened by several pages\n",
      "(eliminating many extraneous \"that's\" and \"of's\"), and many (minor) errors\n",
      "have been corrected. This release includes a simplified Joseph Smith Story,\n",
      "testimonies of the three and eight witnesses, and a \"Words-to-Know\"\n",
      "glossary.\n",
      "\n",
      "As with the previous announcement, readers are reminded that this is a\n",
      "not-for-profit endeavor. This is a copyrighted work, but people are welcome\n",
      "to make *verbatim* copies for personal use. People can recuperate the\n",
      "actual costs of printing (paper, copy center charges), but may not charge\n",
      "anything for their time in making copies, or in any way realize a profit\n",
      "from the use of this book. See the permissions notice in the book itself\n",
      "for the precise terms.\n",
      "\n",
      "Negotiations are currently underway with a Mormon publisher vis-a-vis the\n",
      "printing and distribution of bound books. (Sorry, I'm out of the wire-bound\n",
      "\"first editions.\") I will make another announcement about the availability\n",
      "of printed copies once everything has been worked out.\n",
      "\n",
      "FTP information: connect via anonymous ftp to carnot.itc.cmu.edu, then \"cd\n",
      "pub\" (you won't see anything at all until you do).\n",
      "\n",
      "\"The Easy-to-Read Book of Mormon\" is currently available in postscript and\n",
      "RTF (rich text format). (ASCII, LaTeX, and other versions can be made\n",
      "available; contact dba@andrew.cmu.edu for details.) You should be able to\n",
      "print the postscript file on any postscript printer (such as an Apple\n",
      "Laserwriter); let dba know if you have any difficulties. (The postscript in\n",
      "the last release had problems on some printers; this time it should work\n",
      "better.) RTF is a standard document interchange format that can be read in\n",
      "by a number of word processors, including Microsoft Word for both the\n",
      "Macintosh and Windows. If you don't have a postscript printer, you may be\n",
      "able to use the RTF file to print out a copy of the book.\n",
      "\n",
      "-r--r--r--  1 dba                   1984742 Apr 27 13:12 etrbom.ps\n",
      "-r--r--r--  1 dba                   1209071 Apr 27 13:13 etrbom.rtf\n",
      "\n",
      "For more information about how this project came about, please refer to my\n",
      "article in the current issue of _Sunstone_, entitled \"Delighting in\n",
      "Plainness: Issues Surrounding a Simple Modern English Book of Mormon.\"\n",
      "\n",
      "Send all inquiries and comments to:\n",
      "\n",
      "    Lynn Matthews Anderson\n",
      "    5806 Hampton Street\n",
      "    Pittsburgh, PA 15206\n",
      "//////////////////////////////////////////\n",
      "\n",
      "R-score: 625.3\n",
      "\n",
      "Can anyone provide me a ftp site where I can obtain a online version\n",
      "of the Book of Mormon. Please email the internet address if possible.\n",
      "//////////////////////////////////////////\n"
     ]
    }
   ],
   "source": [
    "def P7():\n",
    "    vectorizer = TfidfVectorizer()\n",
    "    train = vectorizer.fit_transform(train_data)\n",
    "    dev = vectorizer.transform(dev_data)\n",
    "    \n",
    "    \n",
    "    model = LogisticRegression(penalty = 'l2', solver='saga', multi_class='multinomial', max_iter=1000, C = 100, tol=0.01)\n",
    "    model.fit(train, train_labels)\n",
    "    predict = model.predict(dev)\n",
    "    probs = model.predict_proba(dev)\n",
    "    \n",
    "    r = []\n",
    "    for i, row in enumerate(probs):\n",
    "        prob_max = max(row)\n",
    "        prob_correct = row[dev_labels[i]]\n",
    "        r.append(prob_max/prob_correct)\n",
    "        \n",
    "    top_3 = sorted(range(len(r)), key=lambda i: r[i])[-3:]\n",
    "    \n",
    "    print(\"Top 3 documents with largest R ratio:\")\n",
    "    for i in top_3:\n",
    "        print(\"\\nR-score: {:.4}\\n\".format(r[i]))\n",
    "        print(dev_data[i])\n",
    "        print(\"//////////////////////////////////////////\")\n",
    "P7()"
   ]
  },
  {
   "cell_type": "markdown",
   "metadata": {
    "colab_type": "text",
    "id": "bZmIPwExFsx1"
   },
   "source": [
    "ANSWER: TfidtVectorizer converts the documenr into a tfidf matrix scores as it applies an transform to the data. Countvectorizer counts the num of times a word occurs in the doc, and converts it into a count matrix.\n",
    "\n",
    " "
   ]
  },
  {
   "cell_type": "markdown",
   "metadata": {
    "colab_type": "text",
    "id": "VmsDxtzoFsx1"
   },
   "source": [
    "### Part 8 EXTRA CREDIT:\n",
    "\n",
    "Try implementing one of your ideas based on your error analysis. Use logistic regression as your underlying model."
   ]
  },
  {
   "cell_type": "code",
   "execution_count": null,
   "metadata": {
    "colab": {},
    "colab_type": "code",
    "id": "ZMaqe8c5Fsx2"
   },
   "outputs": [],
   "source": []
  }
 ],
 "metadata": {
  "colab": {
   "collapsed_sections": [],
   "name": "firstname_lastname_p2.ipynb",
   "private_outputs": true,
   "provenance": [
    {
     "file_id": "https://github.com/MIDS-W207/Master/blob/master/Projects/firstname_lastname_p2.ipynb",
     "timestamp": 1559779272103
    }
   ],
   "version": "0.3.2"
  },
  "kernelspec": {
   "display_name": "Python 3",
   "language": "python",
   "name": "python3"
  },
  "language_info": {
   "codemirror_mode": {
    "name": "ipython",
    "version": 3
   },
   "file_extension": ".py",
   "mimetype": "text/x-python",
   "name": "python",
   "nbconvert_exporter": "python",
   "pygments_lexer": "ipython3",
   "version": "3.8.3"
  },
  "toc": {
   "base_numbering": 1,
   "nav_menu": {},
   "number_sections": false,
   "sideBar": true,
   "skip_h1_title": true,
   "title_cell": "Table of Contents",
   "title_sidebar": "Contents",
   "toc_cell": false,
   "toc_position": {},
   "toc_section_display": true,
   "toc_window_display": false
  }
 },
 "nbformat": 4,
 "nbformat_minor": 4
}
